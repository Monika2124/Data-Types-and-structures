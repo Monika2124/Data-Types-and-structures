{
  "nbformat": 4,
  "nbformat_minor": 0,
  "metadata": {
    "colab": {
      "provenance": []
    },
    "kernelspec": {
      "name": "python3",
      "display_name": "Python 3"
    },
    "language_info": {
      "name": "python"
    }
  },
  "cells": [
    {
      "cell_type": "markdown",
      "source": [
        "# Theory Questions\n"
      ],
      "metadata": {
        "id": "qA_yjZwf7lU8"
      }
    },
    {
      "cell_type": "markdown",
      "source": [
        "Q1- What are data structures, and why are they important?\n",
        "-\n",
        " - Data structures are essentially ways to arrange and store data in a computer's memory so it can be used efficiently. They define how data elements are related and what operations can be performed on them.\n",
        "Reason for Importane -\n",
        " -Efficiency: Choosing the right data structure can drastically improve the speed and efficiency of algorithms and programs.\n",
        " -Organization: Data structures help to organize data in a way that is easy to understand and manipulate.\n",
        " -Scalability: They allow programs to handle large amounts of data efficiently.\n",
        " -Problem-solving: They provide a framework for solving complex problems by breaking them down into smaller, more manageable tasks.\n",
        " -Coding interviews: A strong understanding of data structures is crucial for coding interviews and technical roles.\n",
        "\n"
      ],
      "metadata": {
        "id": "9tWi1TX-7lYU"
      }
    },
    {
      "cell_type": "markdown",
      "source": [
        "Q2- Explain the difference between mutable and immutable data types with examples ?\n",
        "-\n",
        "  - Mutable Data Types  These are data types whose values can be modified after they are created. Examples: List, Dictionary, Set.\n",
        " -Immutable Data Types These are data types whose values cannot be altered once they are set. Examples: String, Tuple  "
      ],
      "metadata": {
        "id": "sBhd7DF97nvL"
      }
    },
    {
      "cell_type": "markdown",
      "source": [
        "Q3- What are the main differences between lists and tuples in Python ?\n",
        "-\n",
        "  - In Python, lists and tuples both store collections of data, but differ in mutability, performance and memory usage. Lists are mutable, allowing modifications, while tuples are immutable. Choosing between them depends on whether you need to modify the data or prioritize performance and memory efficiency.\n",
        "\n",
        "Key Differences between List and Tuple\n",
        "  - List\n",
        "    - Lists are mutable(can be modified).\n",
        "    -Iteration over lists is time-consuming.\n",
        "    -Lists are better for performing operations, such as insertion and deletion.\n",
        "    -Lists consume more memory.\n",
        "  \n",
        "  - Tuples\n",
        "     -Tuples are immutable(cannot be modified)\n",
        "     -Iterations over tuple is faster\n",
        "     -Tuples are more suitable for accessing elements efficiently\n",
        "     -Tuples consumes less memory"
      ],
      "metadata": {
        "id": "8OjCdeLA7nru"
      }
    },
    {
      "cell_type": "markdown",
      "source": [
        "Q4-  Describe how dictionaries store data ?\n",
        "-\n",
        "  -Dictionaries are unordered collections of data and are represented with curly brackets { } . Like lists, dictionaries are mutable(changeable) and indexed. With dictionaries, data is stored in a key:value format. In this example, myCar is the variable that we have assigned our dictionary to.24 Jun 2024\n",
        "\n",
        "\n"
      ],
      "metadata": {
        "id": "byyHC2Zs7nox"
      }
    },
    {
      "cell_type": "markdown",
      "source": [
        "Q5-  Why might you use a set instead of a list in Python ?\n",
        "-\n",
        "  -Sets and lists serve different purposes in Python, making one more suitable than the other depending on the situation. Sets are unordered collections of unique elements, while lists are ordered collections that can contain duplicates.\n",
        "  One primary reason to use a set instead of a list is to ensure uniqueness. If the goal is to store a collection of items where duplicates are not allowed, a set is the appropriate choice. Attempting to add a duplicate element to a set will simply have no effect, preserving the uniqueness constraint.\n",
        "  Another key advantage of sets is their efficiency in membership testing. Checking if an element exists within a set is significantly faster than doing the same in a list, especially for large collections. This is because sets are implemented using hash tables, allowing for near-constant time complexity for membership tests (O(1)), whereas lists require linear time complexity (O(n)).\n",
        "\n"
      ],
      "metadata": {
        "id": "zV_ORytc7nmd"
      }
    },
    {
      "cell_type": "markdown",
      "source": [
        "Q6- What is a string in Python, and how is it different from a list ?\n",
        "-\n",
        "  -A string is a sequence of characters between single or double quotes. A list is a sequence of items, where each item could be anything (an integer, a float, a string, etc).\n",
        "\n",
        "\n",
        "\n"
      ],
      "metadata": {
        "id": "VJ93ql_t7njU"
      }
    },
    {
      "cell_type": "markdown",
      "source": [
        "Q7- How do tuples ensure data integrity in Python ?\n",
        "-\n",
        "  - Tuples are immutable to ensure that their contents remain constant throughout their lifecycle, guaranteeing data integrity and reliability. This immutability allows tuples to be used as keys in dictionaries and elements in sets, as they can be hashed\n",
        "\n",
        "\n"
      ],
      "metadata": {
        "id": "oaEn0PN_7nhK"
      }
    },
    {
      "cell_type": "markdown",
      "source": [
        "Q8- What is a hash table, and how does it relate to dictionaries in Python?\n",
        "-\n",
        "  - A hash table is a data structure that offers an efficient way to organize data for quick access. A key is transformed into an index (a process known as hashing) of an array element where the corresponding value is stored\n"
      ],
      "metadata": {
        "id": "AYjJlIxR_uVQ"
      }
    },
    {
      "cell_type": "markdown",
      "source": [
        "Q9-  Can lists contain different data types in Python ?\n",
        "-\n",
        "  - Yes, lists in Python 3 can contain different data types. Python lists are dynamic and flexible, allowing them to store elements of various types within the same list. These types can include integers, strings, floats, booleans, and even other lists or data structures.\n",
        ""
      ],
      "metadata": {
        "id": "cefc6oBa_uRq"
      }
    },
    {
      "cell_type": "markdown",
      "source": [
        "Q10-  Explain why strings are immutable in Python ?\n",
        "\n",
        "-\n",
        "   -Strings are immutable in Python for several reasons:\n",
        "\n",
        "  -Efficiency:When strings are immutable, Python can optimize memory allocation. Identical string literals can point to the same memory location, saving space.\n",
        "  -Thread Safety:Immutable strings are inherently thread-safe. Multiple threads can access and use the same string without the risk of data corruption due to concurrent modification.\n",
        "  -Dictionary Keys:Immutable strings can be used as keys in dictionaries. If strings were mutable, their hash values could change, making them unsuitable as dictionary keys.\n",
        "  -Preventing Accidental Modification:Immutability ensures that a string's value remains constant throughout its lifetime. This prevents unintended changes that could lead to errors.\n",
        "  -Method Chaining:Methods on immutable objects return new instances, enabling easy and safe method chaining.\n",
        "When a string appears to be modified, Python actually creates a new string object with the changes, leaving the original string untouched. This behavior ensures the integrity and predictability of string data"
      ],
      "metadata": {
        "id": "25V6i6l3_uOs"
      }
    },
    {
      "cell_type": "markdown",
      "source": [
        "Q11- What advantages do dictionaries offer over lists for certain tasks ?\n",
        "\n",
        "-\n",
        "  -So it is more efficient to use dictionaries for the searching of elements as it can be carried out in a much faster manner. Lists are used when it is important to maintain the order of the elements and dealing with data that may get changed in the future.13 Apr 2023\n"
      ],
      "metadata": {
        "id": "rwtUNGma_uMC"
      }
    },
    {
      "cell_type": "markdown",
      "source": [
        "Q12- Describe a scenario where using a tuple would be preferable over a list?\n",
        "-\n",
        "  -\n",
        "  Use a list if you need a mutable collection of items where you may need to add, remove, or change elements. Lists are more flexible and have more built-in methods, making them ideal for dynamic collections. Use a tuple if you need an immutable collection where the elements won't change after creation.\n"
      ],
      "metadata": {
        "id": "R41K8tLb_uJN"
      }
    },
    {
      "cell_type": "markdown",
      "source": [
        "Q13- How do sets handle duplicate values in Python?\n",
        "-\n",
        "  - In python sets remove duplicates automatically!\n",
        "\n"
      ],
      "metadata": {
        "id": "Bnj1Gihp_uHn"
      }
    },
    {
      "cell_type": "markdown",
      "source": [
        "Q14- How does the “in” keyword work differently for lists and dictionaries?\n",
        "-\n",
        "   -the in operation for the dictionary tests on keys. The key of the dictionary is a unique value as well as the set, and the execution time is about the same as for sets. On the other hand, dictionary values can be duplicated like a list"
      ],
      "metadata": {
        "id": "3ZAhQ9O7_uD6"
      }
    },
    {
      "cell_type": "markdown",
      "source": [
        "Q15-Can you modify the elements of a tuple? Explain why or why not?\n",
        "-\n",
        "   -No, you cannot directly modify the elements of a tuple in Python. Tuples are immutable, meaning their values cannot be changed after they are created. Attempting to do so will raise a TypeError.\n",
        "\n",
        "\n"
      ],
      "metadata": {
        "id": "mfVs3ojX_uBw"
      }
    },
    {
      "cell_type": "markdown",
      "source": [
        "Q16- What is a nested dictionary, and give an example of its use case ?\n",
        "-\n",
        "   - A nested dictionary in Python is a dictionary where one or more of the values are themselves dictionaries. This allows for representing complex, hierarchical data structures. A use case for nested dictionaries is organizing employee records, where each employee's details can be stored in a nested dictionary, and these can be grouped by department\n",
        "\n"
      ],
      "metadata": {
        "id": "4XgdSAXv_t-T"
      }
    },
    {
      "cell_type": "markdown",
      "source": [
        "Q17- Describe the time complexity of accessing elements in a dictionary?\n",
        "-\n",
        "  - Accessing an element in a dictionary typically takes O(1) (constant time) on average. This means the time it takes to retrieve a value using its key doesn't increase significantly as the dictionary size grows. However, in the worst-case scenario, where numerous collisions occur (meaning different keys map to the same hash value), the time complexity can degrade to O(n) (linear time).\n",
        "\n"
      ],
      "metadata": {
        "id": "6BDpIUPh_t7c"
      }
    },
    {
      "cell_type": "markdown",
      "source": [
        "Q18- D5P In what situations are lists preferred over dictionaries?\n",
        "-\n",
        "   - When order matters or when you need a simple collection of items.\n",
        "\n"
      ],
      "metadata": {
        "id": "lJXDT-s-_t4r"
      }
    },
    {
      "cell_type": "markdown",
      "source": [
        "Q19- Why are dictionaries considered unordered, and how does that affect data retrieval?\n",
        "-\n",
        "   - They store data based on keys, not positions.\n",
        "\n"
      ],
      "metadata": {
        "id": "LXhGr5oI_t27"
      }
    },
    {
      "cell_type": "markdown",
      "source": [
        "Q20- Explain the difference between a list and a dictionary in terms of data retrieval ?\n",
        "-\n",
        "  - Lists retrieve items by index (list[0]), dictionaries use keys (dict[\"name\"]).\n"
      ],
      "metadata": {
        "id": "9LpWFF-L_tzZ"
      }
    },
    {
      "cell_type": "markdown",
      "source": [
        "# Practical Questions"
      ],
      "metadata": {
        "id": "e18HZRe90aq2"
      }
    },
    {
      "cell_type": "code",
      "source": [
        "#Q1 - Write a code to create a string with your name and print it?\n",
        "\n",
        "name = \"Monika\"\n",
        "print(name)\n"
      ],
      "metadata": {
        "colab": {
          "base_uri": "https://localhost:8080/"
        },
        "id": "gE2O4e7L0dag",
        "outputId": "29553284-6036-4928-fff5-c469ed9f8ba4"
      },
      "execution_count": 1,
      "outputs": [
        {
          "output_type": "stream",
          "name": "stdout",
          "text": [
            "Monika\n"
          ]
        }
      ]
    },
    {
      "cell_type": "code",
      "source": [
        "#Q2 -Write a code to find the length of the string \"Hello World\"?\n",
        "\n",
        "print(len(\"Hello World\"))\n"
      ],
      "metadata": {
        "colab": {
          "base_uri": "https://localhost:8080/"
        },
        "id": "3SkAcChs0syq",
        "outputId": "cb102f09-78e7-4721-f694-60a3942cc270"
      },
      "execution_count": 2,
      "outputs": [
        {
          "output_type": "stream",
          "name": "stdout",
          "text": [
            "11\n"
          ]
        }
      ]
    },
    {
      "cell_type": "code",
      "source": [
        "#Q3 -Write a code to slice the first 3 characters from the string \"Python Programming\"?\n",
        "print(\"Python Programming\"[:3])\n"
      ],
      "metadata": {
        "colab": {
          "base_uri": "https://localhost:8080/"
        },
        "id": "hX5qkxcw091R",
        "outputId": "2ac2e2f2-701c-4c52-a4b7-ec4c69cc0ae3"
      },
      "execution_count": 3,
      "outputs": [
        {
          "output_type": "stream",
          "name": "stdout",
          "text": [
            "Pyt\n"
          ]
        }
      ]
    },
    {
      "cell_type": "code",
      "source": [
        "#Q4- Write a code to convert the string \"hello\" to uppercase?\n",
        "print(\"hello\".upper())\n"
      ],
      "metadata": {
        "colab": {
          "base_uri": "https://localhost:8080/"
        },
        "id": "T2ZTwXt_09zT",
        "outputId": "de397871-57a6-419f-f349-3036a72d5bd4"
      },
      "execution_count": 4,
      "outputs": [
        {
          "output_type": "stream",
          "name": "stdout",
          "text": [
            "HELLO\n"
          ]
        }
      ]
    },
    {
      "cell_type": "code",
      "source": [
        "#Q5- Write a code to replace the word \"apple\" with \"orange\" in the string \"I like apple\"?\n",
        "print(\"I like apple\".replace(\"apple\", \"orange\"))\n"
      ],
      "metadata": {
        "colab": {
          "base_uri": "https://localhost:8080/"
        },
        "id": "r0KpEo8k09wN",
        "outputId": "b2a9dc4c-c1ae-4901-a196-1a3ad16bee0b"
      },
      "execution_count": 5,
      "outputs": [
        {
          "output_type": "stream",
          "name": "stdout",
          "text": [
            "I like orange\n"
          ]
        }
      ]
    },
    {
      "cell_type": "code",
      "source": [
        "#Q6 -Write a code to create a list with numbers 1 to 5 and print it?\n",
        "numbers = [1, 2, 3, 4, 5]\n",
        "print(numbers)\n",
        "\n"
      ],
      "metadata": {
        "colab": {
          "base_uri": "https://localhost:8080/"
        },
        "id": "WTspYrJo09tt",
        "outputId": "f92acc74-3e5a-4186-d2c3-eb77bd37d275"
      },
      "execution_count": 6,
      "outputs": [
        {
          "output_type": "stream",
          "name": "stdout",
          "text": [
            "[1, 2, 3, 4, 5]\n"
          ]
        }
      ]
    },
    {
      "cell_type": "code",
      "source": [
        "#Q7 - Write a code to append the number 10 to the list [1, 2, 3, 4]?\n",
        "numbers1= [1,2,3,4]\n",
        "numbers1.append(10)\n",
        "print(numbers1)"
      ],
      "metadata": {
        "colab": {
          "base_uri": "https://localhost:8080/"
        },
        "id": "bTtbyJsV09q_",
        "outputId": "4faaa938-26a5-4817-b0ad-2f7aec7c38ea"
      },
      "execution_count": 43,
      "outputs": [
        {
          "output_type": "stream",
          "name": "stdout",
          "text": [
            "[1, 2, 3, 4, 10]\n"
          ]
        }
      ]
    },
    {
      "cell_type": "code",
      "source": [
        "#Q8 - Write a code to remove the number 3 from the list [1, 2, 3, 4, 5]?\n",
        "numbers1.remove(3)\n",
        "print(numbers1)\n"
      ],
      "metadata": {
        "colab": {
          "base_uri": "https://localhost:8080/"
        },
        "id": "BLijl9kQ09oD",
        "outputId": "392cf075-1c4a-4600-e6a3-c94e8700dd74"
      },
      "execution_count": 44,
      "outputs": [
        {
          "output_type": "stream",
          "name": "stdout",
          "text": [
            "[1, 2, 4, 10]\n"
          ]
        }
      ]
    },
    {
      "cell_type": "code",
      "source": [
        "#Q9-  Write a code to access the second element in the list ['a', 'b', 'c', 'd']?\n",
        "letters = ['a', 'b', 'c', 'd']\n",
        "print(letters[1])\n"
      ],
      "metadata": {
        "colab": {
          "base_uri": "https://localhost:8080/"
        },
        "id": "fao22rND09k5",
        "outputId": "f9ed5660-f7e4-43d8-f58d-41185634c185"
      },
      "execution_count": 11,
      "outputs": [
        {
          "output_type": "stream",
          "name": "stdout",
          "text": [
            "b\n"
          ]
        }
      ]
    },
    {
      "cell_type": "code",
      "source": [
        "#Q10- Write a code to reverse the list [10, 20, 30, 40, 50]?\n",
        "reverse_list = [10, 20, 30, 40, 50][::-1]\n",
        "print(reverse_list)\n"
      ],
      "metadata": {
        "colab": {
          "base_uri": "https://localhost:8080/"
        },
        "id": "cwCty0ug09ii",
        "outputId": "fa5cdcc4-7097-4f5f-a053-4a5dada425ce"
      },
      "execution_count": 12,
      "outputs": [
        {
          "output_type": "stream",
          "name": "stdout",
          "text": [
            "[50, 40, 30, 20, 10]\n"
          ]
        }
      ]
    },
    {
      "cell_type": "code",
      "source": [
        "#Q11- Write a code to create a tuple with the elements 100, 200, 300 and print it ?\n",
        "fruits = (100, 200, 300)\n",
        "print(fruits)\n"
      ],
      "metadata": {
        "colab": {
          "base_uri": "https://localhost:8080/"
        },
        "id": "ibkNFnR209fq",
        "outputId": "1f9d3a72-cf9a-4ce7-b255-d550474ffa15"
      },
      "execution_count": 14,
      "outputs": [
        {
          "output_type": "stream",
          "name": "stdout",
          "text": [
            "(100, 200, 300)\n"
          ]
        }
      ]
    },
    {
      "cell_type": "code",
      "source": [
        "#Q12- Write a code to access the second-to-last element of the tuple ('red', 'green', 'blue', 'yellow').\n",
        "colors = ('red', 'green', 'blue', 'yellow')\n",
        "print(colors[-2])\n"
      ],
      "metadata": {
        "colab": {
          "base_uri": "https://localhost:8080/"
        },
        "id": "r8Cs4LCa09a9",
        "outputId": "c6fad4da-ce1b-44e4-dea7-9a5b62f15614"
      },
      "execution_count": 15,
      "outputs": [
        {
          "output_type": "stream",
          "name": "stdout",
          "text": [
            "blue\n"
          ]
        }
      ]
    },
    {
      "cell_type": "code",
      "source": [
        "#Q13- 13. Write a code to find the minimum number in the tuple (10, 20, 5, 15) ?\n",
        "numbers_tuple = (10, 20, 5, 15)\n",
        "print(min(numbers_tuple))\n"
      ],
      "metadata": {
        "colab": {
          "base_uri": "https://localhost:8080/"
        },
        "id": "kLdTGWHK09Nf",
        "outputId": "6fc12424-4788-4b74-ab19-c8a7b1a041dc"
      },
      "execution_count": 16,
      "outputs": [
        {
          "output_type": "stream",
          "name": "stdout",
          "text": [
            "5\n"
          ]
        }
      ]
    },
    {
      "cell_type": "code",
      "source": [
        "#Q14. Write a code to find the index of the element \"cat\" in the tuple ('dog', 'cat', 'rabbit')?\n",
        "\n",
        "animals = ('dog', 'cat', 'rabbit')\n",
        "print(animals.index(\"cat\"))\n"
      ],
      "metadata": {
        "colab": {
          "base_uri": "https://localhost:8080/"
        },
        "id": "HzRViA4z1oue",
        "outputId": "c3b737c3-5821-4769-8c06-2f0a05ef46d1"
      },
      "execution_count": 17,
      "outputs": [
        {
          "output_type": "stream",
          "name": "stdout",
          "text": [
            "1\n"
          ]
        }
      ]
    },
    {
      "cell_type": "code",
      "source": [
        "#Q15. Write a code to create a tuple containing three different fruits and check if \"kiwi\" is in it.\n",
        "fruits = ('apple', 'banana', 'cherry')\n",
        "print(\"kiwi\" in fruits)\n"
      ],
      "metadata": {
        "colab": {
          "base_uri": "https://localhost:8080/"
        },
        "id": "4RgcTXxm1or5",
        "outputId": "547c8581-3c9b-442f-aa20-3b49edeb3b55"
      },
      "execution_count": 18,
      "outputs": [
        {
          "output_type": "stream",
          "name": "stdout",
          "text": [
            "False\n"
          ]
        }
      ]
    },
    {
      "cell_type": "code",
      "source": [
        "#Q16. Write a code to create a set with the elements 'a', 'b', 'c' and print it ?\n",
        "my_set = {'a', 'b', 'c'}\n",
        "print(my_set)\n"
      ],
      "metadata": {
        "colab": {
          "base_uri": "https://localhost:8080/"
        },
        "id": "SCW6wPh61opy",
        "outputId": "1ef3c6b0-6ccb-4b55-f0f0-bd0abd2ec429"
      },
      "execution_count": 19,
      "outputs": [
        {
          "output_type": "stream",
          "name": "stdout",
          "text": [
            "{'a', 'b', 'c'}\n"
          ]
        }
      ]
    },
    {
      "cell_type": "code",
      "source": [
        "#Q17. Write a code to clear all elements from the set {1, 2, 3, 4, 5}\n",
        "my_set.clear()\n",
        "print(my_set)\n"
      ],
      "metadata": {
        "colab": {
          "base_uri": "https://localhost:8080/"
        },
        "id": "PZ4zz1LL1ols",
        "outputId": "833212a7-fba2-4c51-8a7d-33906c301d3f"
      },
      "execution_count": 20,
      "outputs": [
        {
          "output_type": "stream",
          "name": "stdout",
          "text": [
            "set()\n"
          ]
        }
      ]
    },
    {
      "cell_type": "code",
      "source": [
        "#Q18. Write a code to remove the element 4 from the set {1, 2, 3, 4}.\n",
        "numbers_set = {1, 2, 3, 4}\n",
        "numbers_set.remove(4)\n",
        "print(numbers_set)\n"
      ],
      "metadata": {
        "colab": {
          "base_uri": "https://localhost:8080/"
        },
        "id": "q89d0Bcr1oix",
        "outputId": "c1549b5d-33a8-43c1-a260-ce92465bc7f4"
      },
      "execution_count": 21,
      "outputs": [
        {
          "output_type": "stream",
          "name": "stdout",
          "text": [
            "{1, 2, 3}\n"
          ]
        }
      ]
    },
    {
      "cell_type": "code",
      "source": [
        "#Q19. Write a code to find the union of two sets {1, 2, 3} and {3, 4, 5}.\n",
        "set1 = {1, 2, 3}\n",
        "set2 = {3, 4, 5}\n",
        "print(set1.union(set2))\n"
      ],
      "metadata": {
        "colab": {
          "base_uri": "https://localhost:8080/"
        },
        "id": "1dslNSiB1ogH",
        "outputId": "d02915b1-75b5-4a8e-f975-7f739e804aff"
      },
      "execution_count": 22,
      "outputs": [
        {
          "output_type": "stream",
          "name": "stdout",
          "text": [
            "{1, 2, 3, 4, 5}\n"
          ]
        }
      ]
    },
    {
      "cell_type": "code",
      "source": [
        "#Q20. Write a code to find the intersection of two sets {1, 2, 3} and {2, 3, 4}.\n",
        "print(set1.intersection(set2))\n"
      ],
      "metadata": {
        "colab": {
          "base_uri": "https://localhost:8080/"
        },
        "id": "M-nTkH0j1odh",
        "outputId": "4a6864be-f76a-4425-c1aa-8a6ec2aad35d"
      },
      "execution_count": 23,
      "outputs": [
        {
          "output_type": "stream",
          "name": "stdout",
          "text": [
            "{3}\n"
          ]
        }
      ]
    },
    {
      "cell_type": "code",
      "source": [
        "#Q21. Write a code to create a dictionary with the keys \"name\", \"age\", and \"city\", and print it.\n",
        "person = {\"name\": \"Alice\", \"age\": 30, \"city\": \"Paris\"}\n",
        "print(person)\n"
      ],
      "metadata": {
        "colab": {
          "base_uri": "https://localhost:8080/"
        },
        "id": "P5N7WirR1oZ5",
        "outputId": "484c8cdf-c658-4017-8608-0dddae2311f6"
      },
      "execution_count": 24,
      "outputs": [
        {
          "output_type": "stream",
          "name": "stdout",
          "text": [
            "{'name': 'Alice', 'age': 30, 'city': 'Paris'}\n"
          ]
        }
      ]
    },
    {
      "cell_type": "code",
      "source": [
        "#Q22. Write a code to add a new key-value pair \"country\": \"USA\" to the dictionary {'name': 'John', 'age': 25}.\n",
        "person[\"country\"] = \"USA\"\n",
        "print(person)\n"
      ],
      "metadata": {
        "colab": {
          "base_uri": "https://localhost:8080/"
        },
        "id": "oCECXI5A1oVi",
        "outputId": "b94072bf-137e-4aba-d3dd-907590425622"
      },
      "execution_count": 25,
      "outputs": [
        {
          "output_type": "stream",
          "name": "stdout",
          "text": [
            "{'name': 'Alice', 'age': 30, 'city': 'Paris', 'country': 'USA'}\n"
          ]
        }
      ]
    },
    {
      "cell_type": "code",
      "source": [
        "#Q23. Write a code to access the value associated with the key \"name\" in the dictionary {'name': 'Alice', 'age': 30}.\n",
        "print(person[\"name\"])\n"
      ],
      "metadata": {
        "colab": {
          "base_uri": "https://localhost:8080/"
        },
        "id": "pangnO_Q1oSq",
        "outputId": "3794a51d-891e-4411-fa5e-9100fa18dc49"
      },
      "execution_count": 26,
      "outputs": [
        {
          "output_type": "stream",
          "name": "stdout",
          "text": [
            "Alice\n"
          ]
        }
      ]
    },
    {
      "cell_type": "code",
      "source": [
        "#Q24. Write a code to remove the key \"age\" from the dictionary {'name': 'Bob', 'age': 22, 'city': 'New York'}.\n",
        "del person[\"age\"]\n",
        "print(person)\n"
      ],
      "metadata": {
        "colab": {
          "base_uri": "https://localhost:8080/"
        },
        "id": "ifEZxkrW1oQH",
        "outputId": "3e782ef5-87c5-4351-cf6d-527731fddcfa"
      },
      "execution_count": 27,
      "outputs": [
        {
          "output_type": "stream",
          "name": "stdout",
          "text": [
            "{'name': 'Alice', 'city': 'Paris', 'country': 'USA'}\n"
          ]
        }
      ]
    },
    {
      "cell_type": "code",
      "source": [
        "#Q25. Write a code to check if the key \"city\" exists in the dictionary {'name': 'Alice', 'city': 'Paris'}.\n",
        "print(\"city\" in person)\n"
      ],
      "metadata": {
        "colab": {
          "base_uri": "https://localhost:8080/"
        },
        "id": "u161vjL81oNX",
        "outputId": "d3aba139-2011-4874-cc41-21f64299fa5d"
      },
      "execution_count": 28,
      "outputs": [
        {
          "output_type": "stream",
          "name": "stdout",
          "text": [
            "True\n"
          ]
        }
      ]
    },
    {
      "cell_type": "code",
      "source": [
        "#Q26. Write a code to create a list, a tuple, and a dictionary, and print them all.\n",
        "print([1, 2, 3], (4, 5, 6), {\"a\": 1, \"b\": 2})\n"
      ],
      "metadata": {
        "colab": {
          "base_uri": "https://localhost:8080/"
        },
        "id": "ZJry-Zd51oHj",
        "outputId": "a0ccede1-95e4-41f9-e360-815d7c83b6bf"
      },
      "execution_count": 29,
      "outputs": [
        {
          "output_type": "stream",
          "name": "stdout",
          "text": [
            "[1, 2, 3] (4, 5, 6) {'a': 1, 'b': 2}\n"
          ]
        }
      ]
    },
    {
      "cell_type": "code",
      "source": [
        "#Q27. Write a code to create a list of 5 random numbers between 1 and 100, sort it in ascending order, and print the result (replaced)\n",
        "import random\n",
        "random_list = sorted(random.sample(range(1, 100), 5))\n",
        "print(random_list)\n",
        "\n"
      ],
      "metadata": {
        "colab": {
          "base_uri": "https://localhost:8080/"
        },
        "id": "G3kkGTVg2Iiz",
        "outputId": "de53c30b-811a-4096-8a20-843fe52d5b75"
      },
      "execution_count": 30,
      "outputs": [
        {
          "output_type": "stream",
          "name": "stdout",
          "text": [
            "[21, 48, 62, 82, 91]\n"
          ]
        }
      ]
    },
    {
      "cell_type": "code",
      "source": [
        "#Q28. Write a code to create a list with strings and print the element at the third index.\n",
        "strings_list = [\"apple\", \"banana\", \"cherry\", \"date\", \"elderberry\"]\n",
        "print(strings_list[3])\n"
      ],
      "metadata": {
        "colab": {
          "base_uri": "https://localhost:8080/"
        },
        "id": "tGLSw_Qk2IfC",
        "outputId": "19b96159-02ed-4bf4-cb2e-7052bcbcd7a6"
      },
      "execution_count": 31,
      "outputs": [
        {
          "output_type": "stream",
          "name": "stdout",
          "text": [
            "date\n"
          ]
        }
      ]
    },
    {
      "cell_type": "code",
      "source": [
        "#Q29. Write a code to combine two dictionaries into one and print the result.\n",
        "dict1 = {\"a\": 1, \"b\": 2}\n",
        "dict2 = {\"c\": 3, \"d\": 4}\n",
        "combined_dict = {**dict1, **dict2}\n",
        "print(combined_dict)\n"
      ],
      "metadata": {
        "colab": {
          "base_uri": "https://localhost:8080/"
        },
        "id": "JK8AkOl12IcU",
        "outputId": "9aab0b7d-17cb-4bd8-e7e0-bb0f90075f30"
      },
      "execution_count": 32,
      "outputs": [
        {
          "output_type": "stream",
          "name": "stdout",
          "text": [
            "{'a': 1, 'b': 2, 'c': 3, 'd': 4}\n"
          ]
        }
      ]
    },
    {
      "cell_type": "code",
      "source": [
        "#Q30. Write a code to convert a list of strings into a set.\n",
        "string_list = [\"apple\", \"banana\", \"apple\"]\n",
        "print(set(string_list))\n"
      ],
      "metadata": {
        "colab": {
          "base_uri": "https://localhost:8080/"
        },
        "id": "gBptqSIr2IZ0",
        "outputId": "98d14859-1240-421e-a9fd-7906a681ed01"
      },
      "execution_count": 33,
      "outputs": [
        {
          "output_type": "stream",
          "name": "stdout",
          "text": [
            "{'banana', 'apple'}\n"
          ]
        }
      ]
    }
  ]
}